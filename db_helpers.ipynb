{
 "cells": [
  {
   "cell_type": "code",
   "execution_count": 2,
   "metadata": {},
   "outputs": [],
   "source": [
    "import pandas as pd\n",
    "\n",
    "meta = pd.read_csv('data/metadata.csv')"
   ]
  },
  {
   "cell_type": "code",
   "execution_count": 3,
   "metadata": {},
   "outputs": [
    {
     "output_type": "stream",
     "name": "stdout",
     "text": "<class 'pandas.core.frame.DataFrame'>\nRangeIndex: 59887 entries, 0 to 59886\nData columns (total 19 columns):\ncord_uid                       59887 non-null object\nsha                            45763 non-null object\nsource_x                       59887 non-null object\ntitle                          59724 non-null object\ndoi                            55801 non-null object\npmcid                          48139 non-null object\npubmed_id                      41328 non-null float64\nlicense                        59887 non-null object\nabstract                       48757 non-null object\npublish_time                   59879 non-null object\nauthors                        57296 non-null object\njournal                        52828 non-null object\nMicrosoft Academic Paper ID    964 non-null float64\nWHO #Covidence                 1768 non-null object\narxiv_id                       676 non-null object\nhas_pdf_parse                  59887 non-null bool\nhas_pmc_xml_parse              59887 non-null bool\nfull_text_file                 51426 non-null object\nurl                            59447 non-null object\ndtypes: bool(2), float64(2), object(15)\nmemory usage: 7.9+ MB\n"
    }
   ],
   "source": [
    "meta.info()"
   ]
  },
  {
   "cell_type": "code",
   "execution_count": 4,
   "metadata": {},
   "outputs": [
    {
     "output_type": "execute_result",
     "data": {
      "text/plain": "   cord_uid                                       sha source_x  \\\n0  zjufx4fo  b2897e1277f56641193a6db73825f707eed3e4c9      PMC   \n1  ymceytj3  e3d0d482ebd9a8ba81c254cc433f314142e72174      PMC   \n2  wzj2glte  00b1d99e70f779eb4ede50059db469c65e8c1469      PMC   \n3  2sfqsfm1  cf584e00f637cbd8f1bb35f3f09f5ed07b71aeb0      PMC   \n4  i0zym7iq  dde02f11923815e6a16a31dd6298c46b109c5dfa      PMC   \n\n                                               title  \\\n0  Sequence requirements for RNA strand transfer ...   \n1  Crystal structure of murine sCEACAM1a[1,4]: a ...   \n2  Synthesis of a novel hepatitis C virus protein...   \n3  Structure of coronavirus main proteinase revea...   \n4  Discontinuous and non-discontinuous subgenomic...   \n\n                        doi      pmcid   pubmed_id license  \\\n0  10.1093/emboj/20.24.7220  PMC125340  11742998.0     unk   \n1   10.1093/emboj/21.9.2076  PMC125375  11980704.0     unk   \n2  10.1093/emboj/20.14.3840  PMC125543  11447125.0   no-cc   \n3      10.1093/emboj/cdf327  PMC126080  12093723.0     unk   \n4      10.1093/emboj/cdf635  PMC136939  12456663.0     unk   \n\n                                            abstract publish_time  \\\n0  Nidovirus subgenomic mRNAs contain a leader se...   2001-12-17   \n1  CEACAM1 is a member of the carcinoembryonic an...   2002-05-01   \n2  Hepatitis C virus (HCV) is an important human ...   2001-07-16   \n3  The key enzyme in coronavirus polyprotein proc...   2002-07-01   \n4  Arteri-, corona-, toro- and roniviruses are ev...   2002-12-01   \n\n                                             authors           journal  \\\n0  Pasternak, Alexander O.; van den Born, Erwin; ...  The EMBO Journal   \n1  Tan, Kemin; Zelus, Bruce D.; Meijers, Rob; Liu...  The EMBO Journal   \n2  Xu, Zhenming; Choi, Jinah; Yen, T.S.Benedict; ...            EMBO J   \n3  Anand, Kanchan; Palm, Gottfried J.; Mesters, J...  The EMBO Journal   \n4  van Vliet, A.L.W.; Smits, S.L.; Rottier, P.J.M...  The EMBO Journal   \n\n   Microsoft Academic Paper ID WHO #Covidence arxiv_id  has_pdf_parse  \\\n0                          NaN            NaN      NaN           True   \n1                          NaN            NaN      NaN           True   \n2                          NaN            NaN      NaN           True   \n3                          NaN            NaN      NaN           True   \n4                          NaN            NaN      NaN           True   \n\n   has_pmc_xml_parse  full_text_file  \\\n0               True  custom_license   \n1               True  custom_license   \n2               True  custom_license   \n3               True  custom_license   \n4               True  custom_license   \n\n                                                 url  \n0  http://europepmc.org/articles/pmc125340?pdf=re...  \n1  http://europepmc.org/articles/pmc125375?pdf=re...  \n2  https://www.ncbi.nlm.nih.gov/pmc/articles/PMC1...  \n3  http://europepmc.org/articles/pmc126080?pdf=re...  \n4  http://europepmc.org/articles/pmc136939?pdf=re...  ",
      "text/html": "<div>\n<style scoped>\n    .dataframe tbody tr th:only-of-type {\n        vertical-align: middle;\n    }\n\n    .dataframe tbody tr th {\n        vertical-align: top;\n    }\n\n    .dataframe thead th {\n        text-align: right;\n    }\n</style>\n<table border=\"1\" class=\"dataframe\">\n  <thead>\n    <tr style=\"text-align: right;\">\n      <th></th>\n      <th>cord_uid</th>\n      <th>sha</th>\n      <th>source_x</th>\n      <th>title</th>\n      <th>doi</th>\n      <th>pmcid</th>\n      <th>pubmed_id</th>\n      <th>license</th>\n      <th>abstract</th>\n      <th>publish_time</th>\n      <th>authors</th>\n      <th>journal</th>\n      <th>Microsoft Academic Paper ID</th>\n      <th>WHO #Covidence</th>\n      <th>arxiv_id</th>\n      <th>has_pdf_parse</th>\n      <th>has_pmc_xml_parse</th>\n      <th>full_text_file</th>\n      <th>url</th>\n    </tr>\n  </thead>\n  <tbody>\n    <tr>\n      <td>0</td>\n      <td>zjufx4fo</td>\n      <td>b2897e1277f56641193a6db73825f707eed3e4c9</td>\n      <td>PMC</td>\n      <td>Sequence requirements for RNA strand transfer ...</td>\n      <td>10.1093/emboj/20.24.7220</td>\n      <td>PMC125340</td>\n      <td>11742998.0</td>\n      <td>unk</td>\n      <td>Nidovirus subgenomic mRNAs contain a leader se...</td>\n      <td>2001-12-17</td>\n      <td>Pasternak, Alexander O.; van den Born, Erwin; ...</td>\n      <td>The EMBO Journal</td>\n      <td>NaN</td>\n      <td>NaN</td>\n      <td>NaN</td>\n      <td>True</td>\n      <td>True</td>\n      <td>custom_license</td>\n      <td>http://europepmc.org/articles/pmc125340?pdf=re...</td>\n    </tr>\n    <tr>\n      <td>1</td>\n      <td>ymceytj3</td>\n      <td>e3d0d482ebd9a8ba81c254cc433f314142e72174</td>\n      <td>PMC</td>\n      <td>Crystal structure of murine sCEACAM1a[1,4]: a ...</td>\n      <td>10.1093/emboj/21.9.2076</td>\n      <td>PMC125375</td>\n      <td>11980704.0</td>\n      <td>unk</td>\n      <td>CEACAM1 is a member of the carcinoembryonic an...</td>\n      <td>2002-05-01</td>\n      <td>Tan, Kemin; Zelus, Bruce D.; Meijers, Rob; Liu...</td>\n      <td>The EMBO Journal</td>\n      <td>NaN</td>\n      <td>NaN</td>\n      <td>NaN</td>\n      <td>True</td>\n      <td>True</td>\n      <td>custom_license</td>\n      <td>http://europepmc.org/articles/pmc125375?pdf=re...</td>\n    </tr>\n    <tr>\n      <td>2</td>\n      <td>wzj2glte</td>\n      <td>00b1d99e70f779eb4ede50059db469c65e8c1469</td>\n      <td>PMC</td>\n      <td>Synthesis of a novel hepatitis C virus protein...</td>\n      <td>10.1093/emboj/20.14.3840</td>\n      <td>PMC125543</td>\n      <td>11447125.0</td>\n      <td>no-cc</td>\n      <td>Hepatitis C virus (HCV) is an important human ...</td>\n      <td>2001-07-16</td>\n      <td>Xu, Zhenming; Choi, Jinah; Yen, T.S.Benedict; ...</td>\n      <td>EMBO J</td>\n      <td>NaN</td>\n      <td>NaN</td>\n      <td>NaN</td>\n      <td>True</td>\n      <td>True</td>\n      <td>custom_license</td>\n      <td>https://www.ncbi.nlm.nih.gov/pmc/articles/PMC1...</td>\n    </tr>\n    <tr>\n      <td>3</td>\n      <td>2sfqsfm1</td>\n      <td>cf584e00f637cbd8f1bb35f3f09f5ed07b71aeb0</td>\n      <td>PMC</td>\n      <td>Structure of coronavirus main proteinase revea...</td>\n      <td>10.1093/emboj/cdf327</td>\n      <td>PMC126080</td>\n      <td>12093723.0</td>\n      <td>unk</td>\n      <td>The key enzyme in coronavirus polyprotein proc...</td>\n      <td>2002-07-01</td>\n      <td>Anand, Kanchan; Palm, Gottfried J.; Mesters, J...</td>\n      <td>The EMBO Journal</td>\n      <td>NaN</td>\n      <td>NaN</td>\n      <td>NaN</td>\n      <td>True</td>\n      <td>True</td>\n      <td>custom_license</td>\n      <td>http://europepmc.org/articles/pmc126080?pdf=re...</td>\n    </tr>\n    <tr>\n      <td>4</td>\n      <td>i0zym7iq</td>\n      <td>dde02f11923815e6a16a31dd6298c46b109c5dfa</td>\n      <td>PMC</td>\n      <td>Discontinuous and non-discontinuous subgenomic...</td>\n      <td>10.1093/emboj/cdf635</td>\n      <td>PMC136939</td>\n      <td>12456663.0</td>\n      <td>unk</td>\n      <td>Arteri-, corona-, toro- and roniviruses are ev...</td>\n      <td>2002-12-01</td>\n      <td>van Vliet, A.L.W.; Smits, S.L.; Rottier, P.J.M...</td>\n      <td>The EMBO Journal</td>\n      <td>NaN</td>\n      <td>NaN</td>\n      <td>NaN</td>\n      <td>True</td>\n      <td>True</td>\n      <td>custom_license</td>\n      <td>http://europepmc.org/articles/pmc136939?pdf=re...</td>\n    </tr>\n  </tbody>\n</table>\n</div>"
     },
     "metadata": {},
     "execution_count": 4
    }
   ],
   "source": [
    "meta.head()"
   ]
  },
  {
   "cell_type": "code",
   "execution_count": null,
   "metadata": {},
   "outputs": [],
   "source": []
  }
 ],
 "metadata": {
  "language_info": {
   "codemirror_mode": {
    "name": "ipython",
    "version": 3
   },
   "file_extension": ".py",
   "mimetype": "text/x-python",
   "name": "python",
   "nbconvert_exporter": "python",
   "pygments_lexer": "ipython3",
   "version": "3.7.4-final"
  },
  "orig_nbformat": 2,
  "kernelspec": {
   "name": "python3",
   "display_name": "Python 3"
  }
 },
 "nbformat": 4,
 "nbformat_minor": 2
}